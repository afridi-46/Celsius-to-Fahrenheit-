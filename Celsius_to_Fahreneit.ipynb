{
  "nbformat": 4,
  "nbformat_minor": 0,
  "metadata": {
    "colab": {
      "provenance": []
    },
    "kernelspec": {
      "name": "python3",
      "display_name": "Python 3"
    },
    "language_info": {
      "name": "python"
    }
  },
  "cells": [
    {
      "cell_type": "code",
      "source": [
        "Celsius = int(input(\"Enter the temperature in the celsius :\"))\n",
        "Fahrenheit = (1.8 * Celsius) + 32\n",
        "print(\"Fahrenheit temperature is :\", Fahrenheit)"
      ],
      "metadata": {
        "colab": {
          "base_uri": "https://localhost:8080/"
        },
        "id": "jJYA0jJ8p7SP",
        "outputId": "63c423fb-bf53-4060-ddd7-b4e8ecbad33f"
      },
      "execution_count": 27,
      "outputs": [
        {
          "output_type": "stream",
          "name": "stdout",
          "text": [
            "Enter the temperature in the celsius :104\n",
            "Fahrenheit temperature is : 219.20000000000002\n"
          ]
        }
      ]
    }
  ]
}